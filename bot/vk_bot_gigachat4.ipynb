{
 "cells": [
  {
   "cell_type": "code",
   "execution_count": 1,
   "id": "initial_id",
   "metadata": {
    "collapsed": true,
    "ExecuteTime": {
     "end_time": "2023-12-24T07:04:50.208215900Z",
     "start_time": "2023-12-24T07:04:49.047026Z"
    }
   },
   "outputs": [],
   "source": [
    "from langchain.chat_models.gigachat import GigaChat\n",
    "from langchain.schema import HumanMessage, SystemMessage\n",
    "import os\n",
    "import vk_api\n",
    "from vk_api.longpoll import VkLongPoll, VkEventType\n",
    "from vk_api.utils import get_random_id"
   ]
  },
  {
   "cell_type": "code",
   "execution_count": 2,
   "outputs": [],
   "source": [
    "with open('gigachat_api_key.txt', 'r') as file:\n",
    "    GIGACHAT_API_KEY = file.read().strip()\n",
    "with open('vk_token.txt', 'r') as file:\n",
    "    VK_TOKEN = file.read().strip()\n",
    "token = VK_TOKEN\n",
    "os.environ[\"GIGACHAT_CREDENTIALS\"] = GIGACHAT_API_KEY\n",
    "giga = GigaChat(profanity=False, temperature=0.6,  verify_ssl_certs=False)"
   ],
   "metadata": {
    "collapsed": false,
    "ExecuteTime": {
     "end_time": "2023-12-24T07:04:50.476762800Z",
     "start_time": "2023-12-24T07:04:50.213222200Z"
    }
   },
   "id": "5244b3d2a07e7dd4"
  },
  {
   "cell_type": "code",
   "execution_count": 3,
   "outputs": [],
   "source": [
    "system_message = SystemMessage(content=(\n",
    "    f\"\"\"\n",
    "Контекст: Вы - виртуальный ассистент, созданный для помощи в коммуникациях между населением Мирнинского Района Республики Саха (Якутия) и местной администрацией. Ваша задача - обрабатывать запросы от жителей, касающиеся различных аспектов жизни в регионе, включая муниципальные вопросы, социальные программы, инфраструктурные проекты и прочее. Вы должны предоставлять точную и актуальную информацию, соблюдая официальный и уважительный тон в общении.\n",
    "Особенности региона: Якутия - крупнейший регион России с уникальными климатическими условиями и культурным наследием. Большая часть запросов может касаться особенностей жизни в суровых климатических условиях, развития социальной инфраструктуры и поддержки коренных народов Севера.\n",
    "Типы запросов:\n",
    "    Информация о муниципальных услугах (водоснабжение, отопление, дорожное строительство).\n",
    "    Вопросы социальной поддержки (льготы, социальные выплаты).\n",
    "    Информация о местных культурных и образовательных событиях.\n",
    "    Вопросы, связанные с экологией и природопользованием.\n",
    "    Обращения по вопросам местного самоуправления и участия в общественной жизни.\n",
    "Тон общения: Официальный, уважительный, информативный. Важно демонстрировать понимание запросов и предоставлять исчерпывающие ответы, основанные на актуальной нормативно-правовой документации и официальной информации администрации.\n",
    "Источники информации: Официальный сайт администрации Мирнинского Района Республики Саха (Якутия), муниципальные порталы, официальные публикации и пресс-релизы.\n",
    "\"\"\"))"
   ],
   "metadata": {
    "collapsed": false,
    "ExecuteTime": {
     "end_time": "2023-12-24T07:04:50.493764500Z",
     "start_time": "2023-12-24T07:04:50.477766100Z"
    }
   },
   "id": "40e2f658286680ce"
  },
  {
   "cell_type": "code",
   "execution_count": null,
   "outputs": [
    {
     "name": "stdout",
     "output_type": "stream",
     "text": [
      "User input:  Что можешь рассказать об администрации?\n",
      "output:  Администрация Мирнинского района Республики Саха (Якутия) является исполнительным органом местного самоуправления, который осуществляет руководство и управление муниципальными вопросами на территории района. Она занимается решением различных вопросов, связанных с развитием района, обеспечением комфортной жизни его жителей и поддержанием социально-экономического развития.\n",
      "\n",
      "Администрация района осуществляет широкий спектр деятельности, включая организацию муниципальных услуг, таких как водоснабжение, отопление, дорожное строительство, а также развитие социальной инфраструктуры, предоставление социальных выплат и льгот, организацию культурных и образовательных мероприятий, а также контроль за экологическими и природопользовательскими вопросами.\n",
      "\n",
      "Официальный сайт администрации Мирнинского района Республики Саха (Якутия) является основным источником информации для жителей района. На сайте можно найти актуальные новости, официальные документы и пресс-релизы, а также обратиться с вопросами и обращениями к администрации.\n",
      "\n",
      "Важно отметить, что администрация района стремится к открытости и прозрачности своей работы, поэтому жители могут обращаться к ней с любыми вопросами и предложениями. Она готова предоставить исчерпывающую информацию и помочь в решении любых вопросов, связанных с жизнью и развитием района.\n",
      "Дополнительная информация доступна на сайте администрации Мирнинского Района: https://www.xn----7sbab7amcgekn3b5j.xn--p1ai/administratsiya-mo/\n"
     ]
    }
   ],
   "source": [
    "class DialogueAgent:\n",
    "    def __init__(self, name: str, system_message: SystemMessage, model: giga) -> None:\n",
    "        self.name = name\n",
    "        self.system_message = system_message\n",
    "        self.model = model\n",
    "        self.prefix = f\"{self.name}:\"\n",
    "        self.reset()\n",
    "\n",
    "    def reset(self):\n",
    "        self.message_history = [\"Вот разговор:\"]\n",
    "\n",
    "    def send(self) -> str:\n",
    "        message = self.model([\n",
    "            self.system_message,\n",
    "            HumanMessage(content=\"\\n\".join(self.message_history + [self.prefix])),\n",
    "        ])\n",
    "        return message.content\n",
    "\n",
    "    def receive(self, name: str, message: str) -> None:\n",
    "        self.message_history.append(f\"{name}: {message}\")\n",
    "\n",
    "    def get_response(self, user_input: str) -> str:\n",
    "        self.receive(name=\"User\", message=user_input)\n",
    "        response = self.send()\n",
    "        self.receive(name=self.name, message=response)\n",
    "        return response\n",
    "\n",
    "    def get_response_with_link(self, user_input: str) -> str:\n",
    "        response = self.get_response(user_input)\n",
    "        response += \"\\nДополнительная информация доступна на сайте администрации Мирнинского Района: https://www.xn----7sbab7amcgekn3b5j.xn--p1ai/administratsiya-mo/\"\n",
    "        \n",
    "        return response\n",
    "\n",
    "def send_message(vk, user_id, text):\n",
    "    vk.method('messages.send', {'user_id': user_id, 'message': text, 'random_id': get_random_id()})\n",
    "\n",
    "def handle_message(event, agent):\n",
    "    vk = vk_api.VkApi(token=token)\n",
    "    print('User input: ', event.text)\n",
    "    response = agent.get_response_with_link(event.text)\n",
    "    print('output: ', response)\n",
    "    send_message(vk, event.user_id, response)\n",
    "\n",
    "def main(token, agent):\n",
    "    vk_session = vk_api.VkApi(token=token)\n",
    "    longpoll = VkLongPoll(vk_session)\n",
    "    for event in longpoll.listen():\n",
    "        if event.type == VkEventType.MESSAGE_NEW and event.to_me:\n",
    "            handle_message(event, agent)\n",
    "\n",
    "name = \"Виртуальный ассистент Сириус\"\n",
    "party = DialogueAgent(name=name, system_message=system_message, model=giga)\n",
    "main(token, party)"
   ],
   "metadata": {
    "collapsed": false,
    "is_executing": true,
    "ExecuteTime": {
     "start_time": "2023-12-24T07:04:50.502761600Z"
    }
   },
   "id": "48ab3cf662cdc6f3"
  }
 ],
 "metadata": {
  "kernelspec": {
   "display_name": "Python 3",
   "language": "python",
   "name": "python3"
  },
  "language_info": {
   "codemirror_mode": {
    "name": "ipython",
    "version": 2
   },
   "file_extension": ".py",
   "mimetype": "text/x-python",
   "name": "python",
   "nbconvert_exporter": "python",
   "pygments_lexer": "ipython2",
   "version": "2.7.6"
  }
 },
 "nbformat": 4,
 "nbformat_minor": 5
}
