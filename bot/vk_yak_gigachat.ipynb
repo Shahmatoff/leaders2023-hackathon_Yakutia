{
  "nbformat": 4,
  "nbformat_minor": 0,
  "metadata": {
    "colab": {
      "provenance": [],
      "authorship_tag": "ABX9TyPjn5HjbM0UG70UWocaYKPp",
      "include_colab_link": true
    },
    "kernelspec": {
      "name": "python3",
      "display_name": "Python 3"
    },
    "language_info": {
      "name": "python"
    }
  },
  "cells": [
    {
      "cell_type": "markdown",
      "metadata": {
        "id": "view-in-github",
        "colab_type": "text"
      },
      "source": [
        "<a href=\"https://colab.research.google.com/github/Dimildizio/chat-bot-yakutia/blob/main/bot/vk_yak_gigachat.ipynb\" target=\"_parent\"><img src=\"https://colab.research.google.com/assets/colab-badge.svg\" alt=\"Open In Colab\"/></a>"
      ]
    },
    {
      "cell_type": "code",
      "source": [
        "%%capture\n",
        "!pip install langchain gigachat vk_api"
      ],
      "metadata": {
        "id": "u8MNtt70443j"
      },
      "execution_count": 5,
      "outputs": []
    },
    {
      "cell_type": "code",
      "source": [
        "from google.colab import userdata\n",
        "from typing import Callable, Dict, List\n",
        "from langchain.chat_models.gigachat import GigaChat\n",
        "from langchain.schema import HumanMessage, SystemMessage\n",
        "import os\n",
        "import vk_api\n",
        "from vk_api.longpoll import VkLongPoll, VkEventType\n",
        "from vk_api.utils import get_random_id"
      ],
      "metadata": {
        "id": "Gk-JsEI04-v6"
      },
      "execution_count": 20,
      "outputs": []
    },
    {
      "cell_type": "code",
      "execution_count": 29,
      "metadata": {
        "id": "uzHjeCyy425e"
      },
      "outputs": [],
      "source": [
        "apikey = userdata.get('gigachat_autoreq')\n",
        "token = userdata.get('vk_public1')\n",
        "authorize = vk_api.VkApi(token=token)\n",
        "longpoll = VkLongPoll(authorize)\n",
        "os.environ[\"GIGACHAT_CREDENTIALS\"] = apikey\n",
        "giga = GigaChat(profanity=False, temperature=0.2,  verify_ssl_certs=False)"
      ]
    },
    {
      "cell_type": "code",
      "source": [],
      "metadata": {
        "id": "pXT-s_dOAU8W"
      },
      "execution_count": null,
      "outputs": []
    },
    {
      "cell_type": "code",
      "source": [
        "description = f\"\"\"Мы общаемся по поводу работы Администрации города в Якутске. Твоя задача вежливо и официальным тоном дать информацию на запрос\n",
        "если он касается работы государственных органов или проблем региона Якутск. Вежливо игнорируй оскорбительные запросы и запросы с нецензурной лексикой\"\"\"\n",
        "\n",
        "\n",
        "system_message = SystemMessage(content=(\n",
        "        f\"\"\"{description}\n",
        "\n",
        "Контекст: Вы - виртуальный ассистент, созданный для помощи в коммуникациях между населением Республики Саха (Якутия) и местной администрацией. Ваша задача - обрабатывать запросы от жителей, касающиеся различных аспектов жизни в регионе, включая муниципальные вопросы, социальные программы, инфраструктурные проекты и прочее. Вы должны предоставлять точную и актуальную информацию, соблюдая официальный и уважительный тон в общении.\n",
        "\n",
        "Особенности региона: Якутия - крупнейший регион России с уникальными климатическими условиями и культурным наследием. Большая часть запросов может касаться особенностей жизни в суровых климатических условиях, развития социальной инфраструктуры и поддержки коренных народов Севера.\n",
        "\n",
        "Типы запросов:\n",
        "\n",
        "    Информация о муниципальных услугах (водоснабжение, отопление, дорожное строительство).\n",
        "    Вопросы социальной поддержки (льготы, социальные выплаты).\n",
        "    Информация о местных культурных и образовательных событиях.\n",
        "    Вопросы, связанные с экологией и природопользованием.\n",
        "    Обращения по вопросам местного самоуправления и участия в общественной жизни.\n",
        "\n",
        "Тон общения: Официальный, уважительный, информативный. Важно демонстрировать понимание запросов и предоставлять исчерпывающие ответы, основанные на актуальной нормативно-правовой документации и официальной информации администрации.\n",
        "\n",
        "Источники информации: Официальный сайт администрации Республики Саха (Якутия), муниципальные порталы, официальные публикации и пресс-релизы.\n",
        "\"\"\"))\n"
      ],
      "metadata": {
        "id": "qVgThjew7mEm"
      },
      "execution_count": 9,
      "outputs": []
    },
    {
      "cell_type": "code",
      "source": [
        "\n",
        "class DialogueAgent:\n",
        "    def __init__(self, name: str, system_message: SystemMessage, model: giga) -> None:\n",
        "        self.name = name\n",
        "        self.system_message = system_message\n",
        "        self.model = model\n",
        "        self.prefix = f\"{self.name}:\"\n",
        "        self.reset()\n",
        "\n",
        "    def reset(self):\n",
        "        self.message_history = [\"Вот разговор:\"]\n",
        "\n",
        "    def send(self) -> str:\n",
        "        \"\"\"\n",
        "        Applies the chat model to the message history\n",
        "        and returns the message string\n",
        "        \"\"\"\n",
        "        message = self.model(\n",
        "            [\n",
        "                self.system_message,\n",
        "                HumanMessage(content=\"\\n\".join(self.message_history + [self.prefix])),\n",
        "            ]\n",
        "        )\n",
        "        return message.content\n",
        "\n",
        "    def receive(self, name: str, message: str) -> None:\n",
        "        \"\"\"\n",
        "        Concatenates {message} spoken by {name} into message history\n",
        "        \"\"\"\n",
        "        self.message_history.append(f\"{name}: {message}\")\n",
        "\n",
        "    def get_response(self, user_input: str) -> str:\n",
        "        \"\"\"\n",
        "        Generates a response based on the user input\n",
        "        \"\"\"\n",
        "        # Simulate receiving the user input\n",
        "        self.receive(name=\"User\", message=user_input)\n",
        "\n",
        "        # Generate a response using the chat model\n",
        "        response = self.send()\n",
        "\n",
        "        # Simulate receiving the response\n",
        "        self.receive(name=self.name, message=response)\n",
        "\n",
        "        return response\n",
        "\n",
        "\n",
        "def send_message(vk, user_id, text):\n",
        "    vk.method('messages.send', {'user_id': user_id, 'message': text, 'random_id': get_random_id()})\n",
        "\n",
        "\n",
        "def main():\n",
        "    vk_session = vk_api.VkApi(token=token)\n",
        "    longpoll = VkLongPoll(vk_session)\n",
        "\n",
        "    for event in longpoll.listen():\n",
        "        if event.type == VkEventType.MESSAGE_NEW and event.to_me:\n",
        "            handle_message(event)\n",
        "\n",
        "\n",
        "def handle_message(event):\n",
        "    vk = vk_api.VkApi(token=token)\n",
        "    print('User input: ', event.text)\n",
        "\n",
        "    # Get the response from the DialogueAgent\n",
        "    response = party.get_response(event.text)\n",
        "\n",
        "    print('output: ', response)\n",
        "    send_message(vk, event.user_id, response)\n",
        "\n",
        "\n",
        "# Instantiate the DialogueAgent\n",
        "name = \"Виртуальный ассистент Сириус\"\n",
        "party = DialogueAgent(name=name, system_message=system_message, model=giga)\n",
        "\n",
        "# Run the main loop\n",
        "main()\n"
      ],
      "metadata": {
        "id": "IPeN3u6ADKv-"
      },
      "execution_count": null,
      "outputs": []
    }
  ]
}