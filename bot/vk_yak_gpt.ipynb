{
  "nbformat": 4,
  "nbformat_minor": 0,
  "metadata": {
    "colab": {
      "provenance": [],
      "authorship_tag": "ABX9TyNGtmjmqh1pJV96aK34MxXJ",
      "include_colab_link": true
    },
    "kernelspec": {
      "name": "python3",
      "display_name": "Python 3"
    },
    "language_info": {
      "name": "python"
    }
  },
  "cells": [
    {
      "cell_type": "markdown",
      "metadata": {
        "id": "view-in-github",
        "colab_type": "text"
      },
      "source": [
        "<a href=\"https://colab.research.google.com/github/Dimildizio/chat-bot-yakutia/blob/main/bot/vk_yak_gpt.ipynb\" target=\"_parent\"><img src=\"https://colab.research.google.com/assets/colab-badge.svg\" alt=\"Open In Colab\"/></a>"
      ]
    },
    {
      "cell_type": "code",
      "source": [
        "%%capture\n",
        "!pip install vk_api langchain openai chromadb tiktoken"
      ],
      "metadata": {
        "id": "ookxvpI003rf"
      },
      "execution_count": 1,
      "outputs": []
    },
    {
      "cell_type": "code",
      "source": [
        "import vk_api\n",
        "from vk_api.longpoll import VkLongPoll, VkEventType\n",
        "from vk_api.utils import get_random_id\n",
        "from google.colab import userdata\n",
        "import click\n",
        "import os\n",
        "import openai\n",
        "import chromadb\n",
        "import tiktoken\n",
        "from langchain.document_loaders import TextLoader\n",
        "from langchain.indexes import VectorstoreIndexCreator\n",
        "from langchain.chat_models import ChatOpenAI\n",
        "from langchain.chains import ConversationalRetrievalChain"
      ],
      "metadata": {
        "id": "Ho8y7z_v0yZb"
      },
      "execution_count": 4,
      "outputs": []
    },
    {
      "cell_type": "code",
      "execution_count": 5,
      "metadata": {
        "id": "Mx_au1o50wg5"
      },
      "outputs": [],
      "source": [
        "token = userdata.get('vk_public')\n",
        "os.environ[\"OPENAI_API_KEY\"] = userdata.get('gpt_api')\n",
        "openai.api_key = userdata.get('gpt_api')\n",
        "authorize = vk_api.VkApi(token=token)\n",
        "longpoll = VkLongPoll(authorize)"
      ]
    },
    {
      "cell_type": "code",
      "source": [
        "def main():\n",
        "    vk_session = vk_api.VkApi(token=token)\n",
        "    longpoll = VkLongPoll(vk_session)\n",
        "\n",
        "    for event in longpoll.listen():\n",
        "        if event.type == VkEventType.MESSAGE_NEW and event.to_me:\n",
        "            handle_message(event)"
      ],
      "metadata": {
        "id": "wF46-EJn1PSz"
      },
      "execution_count": 6,
      "outputs": []
    },
    {
      "cell_type": "code",
      "source": [
        "def get_chatgpt_response(message):\n",
        "    loader = TextLoader('data.txt')\n",
        "    index = VectorstoreIndexCreator().from_loaders([loader])\n",
        "\n",
        "    chain = ConversationalRetrievalChain.from_llm(\n",
        "        llm=ChatOpenAI(model='gpt-3.5-turbo'),\n",
        "        retriever=index.vectorstore.as_retriever(\n",
        "            search_kwargs={'k': 1}))\n",
        "\n",
        "    chat_log = []\n",
        "    result = chain({'question': message, 'chat_history': chat_log})\n",
        "\n",
        "    chat_log.append((message, result['answer']))\n",
        "    return result['answer']\n"
      ],
      "metadata": {
        "id": "hFwc4OoY6ESw"
      },
      "execution_count": 7,
      "outputs": []
    },
    {
      "cell_type": "code",
      "source": [
        "def send_message(vk, user_id, text):\n",
        "    vk.method('messages.send', {'user_id': user_id, 'message': text, 'random_id': get_random_id()})"
      ],
      "metadata": {
        "id": "CDOMwkhv6Hvm"
      },
      "execution_count": 8,
      "outputs": []
    },
    {
      "cell_type": "code",
      "source": [
        "def handle_message(event):\n",
        "    vk = vk_api.VkApi(token=token)\n",
        "    print('User input: ',event.text)\n",
        "    response = get_chatgpt_response(event.text)\n",
        "    print('output: ', response)\n",
        "    send_message(vk, event.user_id, response)"
      ],
      "metadata": {
        "id": "2_0hOfoh6_Ao"
      },
      "execution_count": 9,
      "outputs": []
    },
    {
      "cell_type": "code",
      "source": [
        "try:\n",
        "  main()\n",
        "except KeyboardInterrupt:\n",
        "    print(\"Bot stopped.\")"
      ],
      "metadata": {
        "id": "j1LRKY6Y1zaH"
      },
      "execution_count": null,
      "outputs": []
    }
  ]
}